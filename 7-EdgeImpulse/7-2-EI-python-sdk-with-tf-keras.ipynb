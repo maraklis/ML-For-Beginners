{
 "cells": [
  {
   "attachments": {},
   "cell_type": "markdown",
   "id": "7583a486-afd6-42d8-934b-fdb33a6f3362",
   "metadata": {
    "tags": []
   },
   "source": [
    "# Using the Edge Impulse Python SDK with TensorFlow and Keras\n",
    "\n",
    "<!--- Do not modify the markdown for this example directly! It is generated from a notebook in https://github.com/edgeimpulse/notebooks --->"
   ]
  },
  {
   "attachments": {},
   "cell_type": "markdown",
   "id": "574b4630-cb17-4bab-8866-ba292e1bc2c8",
   "metadata": {
    "tags": []
   },
   "source": [
    "[![View in Edge Impulse docs](https://raw.githubusercontent.com/edgeimpulse/notebooks/main/.assets/images/ei-badge.svg)](https://docs.edgeimpulse.com/docs/tutorials/ml-and-data-engineering/ei-python-sdk/python-sdk-with-tf-keras)\n",
    "[![Open in Google Colab](https://colab.research.google.com/assets/colab-badge.svg)](https://colab.research.google.com/github/edgeimpulse/notebooks/blob/main/notebooks/python-sdk-with-tf-keras.ipynb)\n",
    "[![View on GitHub](https://raw.githubusercontent.com/edgeimpulse/notebooks/main/.assets/images/badge-view-on-github.svg)](https://github.com/edgeimpulse/notebooks/blob/main/notebooks/python-sdk-with-tf-keras.ipynb)\n",
    "[![Download notebook](https://raw.githubusercontent.com/edgeimpulse/notebooks/main/.assets/images/badge-download-notebook.svg)](https://raw.githubusercontent.com/edgeimpulse/notebooks/main/notebooks/python-sdk-with-tf-keras.ipynb) "
   ]
  },
  {
   "attachments": {},
   "cell_type": "markdown",
   "id": "867045bb-14c2-41c2-a417-0426470df85b",
   "metadata": {
    "tags": []
   },
   "source": [
    "[TensorFlow](https://www.tensorflow.org/) is an open source library for training machine learning models. [Keras](https://keras.io/) is an open source Python library that makes creating neural networks in TensorFlow much easier. We use these two libraries together to very quickly train a model to identify handwritten digits. From there, we use the Edge Impulse Python SDK library to profile the model to see how inference will perform on a target edge device. Then, we use the SDK again to convert our trained model to a C++ library that can be deployed to an edge hardware platform, such as a microcontroller.\n",
    "\n",
    "Follow the code below to see how to train a simple machine learning model and deploy it to a C++ library using Edge Impulse.\n",
    "\n",
    "To learn more about using the Python SDK, please see: [Edge Impulse Python SDK Overview](https://docs.edgeimpulse.com/docs/tools/edge-impulse-python-sdk)."
   ]
  },
  {
   "cell_type": "code",
   "execution_count": 1,
   "id": "e0de311a-de4c-4fe1-8dd9-e7b2206217d0",
   "metadata": {},
   "outputs": [],
   "source": [
    "# If you have not done so already, install the following dependencies\n",
    "# !python -m pip install tensorflow==2.12.0 edgeimpulse"
   ]
  },
  {
   "cell_type": "code",
   "execution_count": 2,
   "id": "2f85b7c9-e76b-459e-ac37-4b348cbb5906",
   "metadata": {
    "tags": []
   },
   "outputs": [],
   "source": [
    "from tensorflow import keras\n",
    "import edgeimpulse as ei"
   ]
  },
  {
   "attachments": {},
   "cell_type": "markdown",
   "id": "8aef50a1-0a2d-4743-bfc3-de0a9755a87b",
   "metadata": {
    "tags": []
   },
   "source": [
    "You will need to obtain an API key from an Edge Impulse project. Log into [edgeimpulse.com](https://edgeimpulse.com/) and create a new project. Open the project, navigate to **Dashboard** and click on the **Keys** tab to view your API keys. Double-click on the API key to highlight it, right-click, and select **Copy**.\n",
    "\n",
    "![Copy API key from Edge Impulse project](https://raw.githubusercontent.com/edgeimpulse/notebooks/main/.assets/images/python-sdk-copy-ei-api-key.png)\n",
    "\n",
    "Note that you do not actually need to use the project in the Edge Impulse Studio. We just need the API Key.\n",
    "\n",
    "Paste that API key string in the `ei.API_KEY` value in the following cell:"
   ]
  },
  {
   "cell_type": "code",
   "execution_count": 3,
   "id": "3429e02d-5188-4215-97c7-5a50b854b06b",
   "metadata": {
    "tags": []
   },
   "outputs": [],
   "source": [
    "# Settings\n",
    "ei.API_KEY = \"ei_dae2...\" # Change this to your Edge Impulse API key\n",
    "labels = [\"0\", \"1\", \"2\", \"3\", \"4\", \"5\", \"6\", \"7\", \"8\", \"9\"]\n",
    "num_classes = len(labels)\n",
    "deploy_filename = \"my_model_cpp.zip\""
   ]
  },
  {
   "attachments": {},
   "cell_type": "markdown",
   "id": "dd9078d0-d5a5-4a9f-96f1-0faecb4e2b1c",
   "metadata": {
    "tags": []
   },
   "source": [
    "## Train a machine learning model\n",
    "\n",
    "We want to create a classifier that can uniquely identify handwritten digits. To start, we will use TensorFlow and Keras to train a very simple convolutional neural network (CNN) on the classic [MNIST](http://yann.lecun.com/exdb/mnist/) dataset, which consists of handwritten digits from 0 to 9."
   ]
  },
  {
   "cell_type": "code",
   "execution_count": 4,
   "id": "0a0abd03-9473-4272-b97d-f59cefa44995",
   "metadata": {
    "tags": []
   },
   "outputs": [],
   "source": [
    "# Load MNIST data\n",
    "(x_train, y_train), (x_test, y_test) = keras.datasets.mnist.load_data()\n",
    "x_train = keras.utils.normalize(x_train, axis=1)\n",
    "x_test = keras.utils.normalize(x_test, axis=1)\n",
    "y_train = keras.utils.to_categorical(y_train, num_classes)\n",
    "y_test = keras.utils.to_categorical(y_test, num_classes)\n",
    "input_shape = x_train[0].shape"
   ]
  },
  {
   "cell_type": "code",
   "execution_count": 5,
   "id": "ba42755e-b13c-4e84-a016-4e4fcf4be9f6",
   "metadata": {
    "tags": []
   },
   "outputs": [
    {
     "name": "stderr",
     "output_type": "stream",
     "text": [
      "/Users/cer/ML-For-Beginners/.venv/lib/python3.11/site-packages/keras/src/layers/core/dense.py:92: UserWarning: Do not pass an `input_shape`/`input_dim` argument to a layer. When using Sequential models, prefer using an `Input(shape)` object as the first layer in the model instead.\n",
      "  super().__init__(activity_regularizer=activity_regularizer, **kwargs)\n"
     ]
    }
   ],
   "source": [
    "# Build the model \n",
    "model = keras.Sequential([\n",
    "    keras.layers.Flatten(),\n",
    "    keras.layers.Dense(32, activation='relu', input_shape=input_shape),\n",
    "    keras.layers.Dense(num_classes, activation='softmax')\n",
    "])\n",
    "\n",
    "# Compile the model\n",
    "model.compile(optimizer='adam',\n",
    "              loss='categorical_crossentropy',\n",
    "              metrics=['accuracy'])"
   ]
  },
  {
   "cell_type": "code",
   "execution_count": 6,
   "id": "d6ddf625-43c9-40da-9c44-7fbbbea8b572",
   "metadata": {
    "tags": []
   },
   "outputs": [
    {
     "name": "stdout",
     "output_type": "stream",
     "text": [
      "Epoch 1/5\n",
      "\u001b[1m1875/1875\u001b[0m \u001b[32m━━━━━━━━━━━━━━━━━━━━\u001b[0m\u001b[37m\u001b[0m \u001b[1m2s\u001b[0m 679us/step - accuracy: 0.8868 - loss: 0.4206\n",
      "Epoch 2/5\n",
      "\u001b[1m1875/1875\u001b[0m \u001b[32m━━━━━━━━━━━━━━━━━━━━\u001b[0m\u001b[37m\u001b[0m \u001b[1m1s\u001b[0m 636us/step - accuracy: 0.9337 - loss: 0.2316\n",
      "Epoch 3/5\n",
      "\u001b[1m1875/1875\u001b[0m \u001b[32m━━━━━━━━━━━━━━━━━━━━\u001b[0m\u001b[37m\u001b[0m \u001b[1m1s\u001b[0m 638us/step - accuracy: 0.9462 - loss: 0.1879\n",
      "Epoch 4/5\n",
      "\u001b[1m1875/1875\u001b[0m \u001b[32m━━━━━━━━━━━━━━━━━━━━\u001b[0m\u001b[37m\u001b[0m \u001b[1m1s\u001b[0m 647us/step - accuracy: 0.9544 - loss: 0.1589\n",
      "Epoch 5/5\n",
      "\u001b[1m1875/1875\u001b[0m \u001b[32m━━━━━━━━━━━━━━━━━━━━\u001b[0m\u001b[37m\u001b[0m \u001b[1m1s\u001b[0m 626us/step - accuracy: 0.9603 - loss: 0.1382\n"
     ]
    },
    {
     "data": {
      "text/plain": [
       "<keras.src.callbacks.history.History at 0x350f88550>"
      ]
     },
     "execution_count": 6,
     "metadata": {},
     "output_type": "execute_result"
    }
   ],
   "source": [
    "# Train the model\n",
    "model.fit(x_train, \n",
    "          y_train, \n",
    "          epochs=5)"
   ]
  },
  {
   "cell_type": "code",
   "execution_count": 7,
   "id": "dc2b0ab6-e2d0-4448-9545-4870e5b2d101",
   "metadata": {
    "tags": []
   },
   "outputs": [
    {
     "name": "stdout",
     "output_type": "stream",
     "text": [
      "Test loss: 0.1475600153207779\n",
      "Test accuracy: 0.9560999870300293\n"
     ]
    }
   ],
   "source": [
    "# Evaluate model on test set\n",
    "score = model.evaluate(x_test, y_test, verbose=0)\n",
    "print(f\"Test loss: {score[0]}\")\n",
    "print(f\"Test accuracy: {score[1]}\")"
   ]
  },
  {
   "attachments": {},
   "cell_type": "markdown",
   "id": "4e04b239-80c6-43e0-87e0-e3a41b8457db",
   "metadata": {
    "tags": []
   },
   "source": [
    "## Profile your model\n",
    "\n",
    "To start, we need to list the possible target devices we can use for profiling. We need to pick from this list."
   ]
  },
  {
   "cell_type": "code",
   "execution_count": 8,
   "id": "1b622df2-9745-4c93-969f-35de2ff10df6",
   "metadata": {
    "tags": []
   },
   "outputs": [
    {
     "ename": "UnauthorizedException",
     "evalue": "(401)\nReason: Unauthorized\nHTTP response headers: HTTPHeaderDict({'Content-Type': 'text/plain; charset=utf-8', 'Content-Length': '60', 'Connection': 'keep-alive', 'Date': 'Sun, 28 Sep 2025 06:56:28 GMT', 'ETag': 'W/\"3c-0go0DpwpkjT6v/UodbrqIBueGa8\"', 'Set-Cookie': 'x-xsrf-token=DVE%2F5%2BklcldKX%2FFkQEji2g%3D%3D; Path=/; HttpOnly; Secure; SameSite=Strict, connect.sid=s%3AXFzGtdxHD0AjoYN6_0915CtObVPvN491.bGRzvn5Js%2BtLrv3NPDRwDAViSS%2FzjDtrnFoxXviNICo; Path=/; HttpOnly; Secure', 'Access-Control-Allow-Origin': '*', 'Content-Security-Policy': \"default-src 'self' blob: edgeimpulse.com *.edgeimpulse.com ; img-src 'self' 'unsafe-inline' edgeimpulse.com *.edgeimpulse.com *.google-analytics.com *.googletagmanager.com data: https://usercdn.edgeimpulse.com ; media-src 'self' edgeimpulse.com *.edgeimpulse.com blob: data: mediastream://studio.edgeimpulse.com; script-src   'nonce-Nv9ZNk4ljGU8ArMhmgAgSA==' blob:; connect-src 'self' edgeimpulse.com *.edgeimpulse.com *.google-analytics.com *.hsforms.net *.hsforms.com *.amazonaws.com *.googleapis.com fonts.googleapis.com sentry.io *.sentry.io youtube.com *.youtube.com *.doubleclick.net *.amplitude.com localhost:4800 localhost:4810 host.docker.internal:4810 host.docker.internal:9001 host.docker.internal:* http://*.svc.cluster.local:4449 wss://studio.edgeimpulse.com wss://remote-mgmt.edgeimpulse.com ; style-src 'self' 'unsafe-inline' edgeimpulse.com *.edgeimpulse.com fonts.googleapis.com; base-uri 'self' edgeimpulse.com *.edgeimpulse.com; frame-ancestors 'self' edgeimpulse.com *.edgeimpulse.com; form-action 'self' edgeimpulse.com *.edgeimpulse.com; frame-src 'self' edgeimpulse.com *.edgeimpulse.com youtube.com *.youtube.com *.googletagmanager.com challenges.cloudflare.com localhost:4820; font-src 'self' edgeimpulse.com *.edgeimpulse.com fonts.gstatic.com; report-uri https://o333795.ingest.sentry.io/api/1887001/security/?sentry_key=3ad6405147234fac8ab65061c25d2334;\", 'X-Content-Type-Options': 'nosniff', 'X-Frame-Options': 'DENY', 'X-XSS-Protection': '1; mode=block', 'Referrer-Policy': 'strict-origin', 'Cache-Control': 's-maxage=0,public,no-cache,no-store,must-revalidate', 'Strict-Transport-Security': 'max-age=63072000', 'X-Cache': 'Error from cloudfront', 'Via': '1.1 f210af40fa7c8969ae75fe2a8df31bd4.cloudfront.net (CloudFront)', 'X-Amz-Cf-Pop': 'CPH50-P2', 'X-Amz-Cf-Id': 'A7Qx-PdZc8n4CM829JGBjzguh3GCOf4NSHP7ByUK405DrkD6v4DyNA=='})\nHTTP response body: An error occurred when serving your request: Invalid API key\n",
     "output_type": "error",
     "traceback": [
      "\u001b[31m---------------------------------------------------------------------------\u001b[39m",
      "\u001b[31mUnauthorizedException\u001b[39m                     Traceback (most recent call last)",
      "\u001b[36mCell\u001b[39m\u001b[36m \u001b[39m\u001b[32mIn[8]\u001b[39m\u001b[32m, line 2\u001b[39m\n\u001b[32m      1\u001b[39m \u001b[38;5;66;03m# List the available profile target devices\u001b[39;00m\n\u001b[32m----> \u001b[39m\u001b[32m2\u001b[39m \u001b[43mei\u001b[49m\u001b[43m.\u001b[49m\u001b[43mmodel\u001b[49m\u001b[43m.\u001b[49m\u001b[43mlist_profile_devices\u001b[49m\u001b[43m(\u001b[49m\u001b[43m)\u001b[49m\n",
      "\u001b[36mFile \u001b[39m\u001b[32m~/ML-For-Beginners/.venv/lib/python3.11/site-packages/edgeimpulse/model/_functions/profile.py:235\u001b[39m, in \u001b[36mlist_profile_devices\u001b[39m\u001b[34m(api_key)\u001b[39m\n\u001b[32m    221\u001b[39m \u001b[38;5;250m\u001b[39m\u001b[33;03m\"\"\"List possible values for the `device` field when calling `edgeimpulse.model.profile()`.\u001b[39;00m\n\u001b[32m    222\u001b[39m \n\u001b[32m    223\u001b[39m \u001b[33;03mArgs:\u001b[39;00m\n\u001b[32m   (...)\u001b[39m\u001b[32m    229\u001b[39m \n\u001b[32m    230\u001b[39m \u001b[33;03m\"\"\"\u001b[39;00m\n\u001b[32m    231\u001b[39m client = configure_generic_client(\n\u001b[32m    232\u001b[39m     key=api_key \u001b[38;5;28;01mif\u001b[39;00m api_key \u001b[38;5;28;01melse\u001b[39;00m edgeimpulse.API_KEY,\n\u001b[32m    233\u001b[39m     host=edgeimpulse.API_ENDPOINT,\n\u001b[32m    234\u001b[39m )\n\u001b[32m--> \u001b[39m\u001b[32m235\u001b[39m \u001b[38;5;28;01mreturn\u001b[39;00m \u001b[43mget_profile_devices\u001b[49m\u001b[43m(\u001b[49m\u001b[43mclient\u001b[49m\u001b[43m)\u001b[49m\n",
      "\u001b[36mFile \u001b[39m\u001b[32m~/ML-For-Beginners/.venv/lib/python3.11/site-packages/edgeimpulse/util.py:594\u001b[39m, in \u001b[36mget_profile_devices\u001b[39m\u001b[34m(client, project_id)\u001b[39m\n\u001b[32m    584\u001b[39m \u001b[38;5;250m\u001b[39m\u001b[33;03m\"\"\"Pull a list of profile devices.\u001b[39;00m\n\u001b[32m    585\u001b[39m \n\u001b[32m    586\u001b[39m \u001b[33;03mArgs:\u001b[39;00m\n\u001b[32m   (...)\u001b[39m\u001b[32m    591\u001b[39m \u001b[33;03m    List[str]: List of profile targets for project\u001b[39;00m\n\u001b[32m    592\u001b[39m \u001b[33;03m\"\"\"\u001b[39;00m\n\u001b[32m    593\u001b[39m \u001b[38;5;28;01mif\u001b[39;00m project_id \u001b[38;5;129;01mis\u001b[39;00m \u001b[38;5;28;01mNone\u001b[39;00m:\n\u001b[32m--> \u001b[39m\u001b[32m594\u001b[39m     project_id = \u001b[43mdefault_project_id_for\u001b[49m\u001b[43m(\u001b[49m\u001b[43mclient\u001b[49m\u001b[43m)\u001b[49m\n\u001b[32m    595\u001b[39m \u001b[38;5;28;01mtry\u001b[39;00m:\n\u001b[32m    596\u001b[39m     projects = ProjectsApi(client)\n",
      "\u001b[36mFile \u001b[39m\u001b[32m~/ML-For-Beginners/.venv/lib/python3.11/site-packages/edgeimpulse/util.py:550\u001b[39m, in \u001b[36mdefault_project_id_for\u001b[39m\u001b[34m(client)\u001b[39m\n\u001b[32m    548\u001b[39m \u001b[38;5;28;01mexcept\u001b[39;00m \u001b[38;5;167;01mException\u001b[39;00m \u001b[38;5;28;01mas\u001b[39;00m e:\n\u001b[32m    549\u001b[39m     logging.debug(\u001b[33mf\u001b[39m\u001b[33m\"\u001b[39m\u001b[33mException trying to fetch project ID [\u001b[39m\u001b[38;5;132;01m{\u001b[39;00m\u001b[38;5;28mstr\u001b[39m(e)\u001b[38;5;132;01m}\u001b[39;00m\u001b[33m]\u001b[39m\u001b[33m\"\u001b[39m)\n\u001b[32m--> \u001b[39m\u001b[32m550\u001b[39m     \u001b[38;5;28;01mraise\u001b[39;00m e\n\u001b[32m    552\u001b[39m logging.debug(\u001b[33mf\u001b[39m\u001b[33m\"\u001b[39m\u001b[33mDerived project_id=\u001b[39m\u001b[38;5;132;01m{\u001b[39;00mproject_id\u001b[38;5;132;01m}\u001b[39;00m\u001b[33m based on api key\u001b[39m\u001b[33m\"\u001b[39m)\n\u001b[32m    553\u001b[39m \u001b[38;5;28;01mreturn\u001b[39;00m project_id\n",
      "\u001b[36mFile \u001b[39m\u001b[32m~/ML-For-Beginners/.venv/lib/python3.11/site-packages/edgeimpulse/util.py:545\u001b[39m, in \u001b[36mdefault_project_id_for\u001b[39m\u001b[34m(client)\u001b[39m\n\u001b[32m    542\u001b[39m     \u001b[38;5;28;01mraise\u001b[39;00m InvalidAuthTypeException(msg)\n\u001b[32m    544\u001b[39m \u001b[38;5;28;01mtry\u001b[39;00m:\n\u001b[32m--> \u001b[39m\u001b[32m545\u001b[39m     response = \u001b[43mprojects\u001b[49m\u001b[43m.\u001b[49m\u001b[43mlist_projects\u001b[49m\u001b[43m(\u001b[49m\u001b[43m)\u001b[49m\n\u001b[32m    546\u001b[39m     check_response_errors(response)\n\u001b[32m    547\u001b[39m     project_id = response.projects[\u001b[32m0\u001b[39m].id\n",
      "\u001b[36mFile \u001b[39m\u001b[32m~/ML-For-Beginners/.venv/lib/python3.11/site-packages/pydantic/v1/decorator.py:40\u001b[39m, in \u001b[36mvalidate_arguments.<locals>.validate.<locals>.wrapper_function\u001b[39m\u001b[34m(*args, **kwargs)\u001b[39m\n\u001b[32m     38\u001b[39m \u001b[38;5;129m@wraps\u001b[39m(_func)\n\u001b[32m     39\u001b[39m \u001b[38;5;28;01mdef\u001b[39;00m\u001b[38;5;250m \u001b[39m\u001b[34mwrapper_function\u001b[39m(*args: Any, **kwargs: Any) -> Any:\n\u001b[32m---> \u001b[39m\u001b[32m40\u001b[39m     \u001b[38;5;28;01mreturn\u001b[39;00m \u001b[43mvd\u001b[49m\u001b[43m.\u001b[49m\u001b[43mcall\u001b[49m\u001b[43m(\u001b[49m\u001b[43m*\u001b[49m\u001b[43margs\u001b[49m\u001b[43m,\u001b[49m\u001b[43m \u001b[49m\u001b[43m*\u001b[49m\u001b[43m*\u001b[49m\u001b[43mkwargs\u001b[49m\u001b[43m)\u001b[49m\n",
      "\u001b[36mFile \u001b[39m\u001b[32m~/ML-For-Beginners/.venv/lib/python3.11/site-packages/pydantic/v1/decorator.py:134\u001b[39m, in \u001b[36mValidatedFunction.call\u001b[39m\u001b[34m(self, *args, **kwargs)\u001b[39m\n\u001b[32m    132\u001b[39m \u001b[38;5;28;01mdef\u001b[39;00m\u001b[38;5;250m \u001b[39m\u001b[34mcall\u001b[39m(\u001b[38;5;28mself\u001b[39m, *args: Any, **kwargs: Any) -> Any:\n\u001b[32m    133\u001b[39m     m = \u001b[38;5;28mself\u001b[39m.init_model_instance(*args, **kwargs)\n\u001b[32m--> \u001b[39m\u001b[32m134\u001b[39m     \u001b[38;5;28;01mreturn\u001b[39;00m \u001b[38;5;28;43mself\u001b[39;49m\u001b[43m.\u001b[49m\u001b[43mexecute\u001b[49m\u001b[43m(\u001b[49m\u001b[43mm\u001b[49m\u001b[43m)\u001b[49m\n",
      "\u001b[36mFile \u001b[39m\u001b[32m~/ML-For-Beginners/.venv/lib/python3.11/site-packages/pydantic/v1/decorator.py:206\u001b[39m, in \u001b[36mValidatedFunction.execute\u001b[39m\u001b[34m(self, m)\u001b[39m\n\u001b[32m    204\u001b[39m     \u001b[38;5;28;01mreturn\u001b[39;00m \u001b[38;5;28mself\u001b[39m.raw_function(*args_, **kwargs, **var_kwargs)\n\u001b[32m    205\u001b[39m \u001b[38;5;28;01melse\u001b[39;00m:\n\u001b[32m--> \u001b[39m\u001b[32m206\u001b[39m     \u001b[38;5;28;01mreturn\u001b[39;00m \u001b[38;5;28;43mself\u001b[39;49m\u001b[43m.\u001b[49m\u001b[43mraw_function\u001b[49m\u001b[43m(\u001b[49m\u001b[43m*\u001b[49m\u001b[43m*\u001b[49m\u001b[43md\u001b[49m\u001b[43m,\u001b[49m\u001b[43m \u001b[49m\u001b[43m*\u001b[49m\u001b[43m*\u001b[49m\u001b[43mvar_kwargs\u001b[49m\u001b[43m)\u001b[49m\n",
      "\u001b[36mFile \u001b[39m\u001b[32m~/ML-For-Beginners/.venv/lib/python3.11/site-packages/edgeimpulse_api/api/projects_api.py:4488\u001b[39m, in \u001b[36mProjectsApi.list_projects\u001b[39m\u001b[34m(self, **kwargs)\u001b[39m\n\u001b[32m   4468\u001b[39m \u001b[38;5;250m\u001b[39m\u001b[33;03m\"\"\"List active projects\u001b[39;00m\n\u001b[32m   4469\u001b[39m \n\u001b[32m   4470\u001b[39m \u001b[33;03mRetrieve list of active projects. If authenticating using JWT token this lists all the projects the user has access to, if authenticating using an API key, this only lists that project.\u001b[39;00m\n\u001b[32m   (...)\u001b[39m\u001b[32m   4485\u001b[39m \u001b[33;03m:rtype: ListProjectsResponse\u001b[39;00m\n\u001b[32m   4486\u001b[39m \u001b[33;03m\"\"\"\u001b[39;00m\n\u001b[32m   4487\u001b[39m kwargs[\u001b[33m'\u001b[39m\u001b[33m_return_http_data_only\u001b[39m\u001b[33m'\u001b[39m] = \u001b[38;5;28;01mTrue\u001b[39;00m\n\u001b[32m-> \u001b[39m\u001b[32m4488\u001b[39m \u001b[38;5;28;01mreturn\u001b[39;00m \u001b[38;5;28;43mself\u001b[39;49m\u001b[43m.\u001b[49m\u001b[43m_list_projects_with_http_info\u001b[49m\u001b[43m(\u001b[49m\u001b[43m*\u001b[49m\u001b[43m*\u001b[49m\u001b[43mkwargs\u001b[49m\u001b[43m)\u001b[49m\n",
      "\u001b[36mFile \u001b[39m\u001b[32m~/ML-For-Beginners/.venv/lib/python3.11/site-packages/pydantic/v1/decorator.py:40\u001b[39m, in \u001b[36mvalidate_arguments.<locals>.validate.<locals>.wrapper_function\u001b[39m\u001b[34m(*args, **kwargs)\u001b[39m\n\u001b[32m     38\u001b[39m \u001b[38;5;129m@wraps\u001b[39m(_func)\n\u001b[32m     39\u001b[39m \u001b[38;5;28;01mdef\u001b[39;00m\u001b[38;5;250m \u001b[39m\u001b[34mwrapper_function\u001b[39m(*args: Any, **kwargs: Any) -> Any:\n\u001b[32m---> \u001b[39m\u001b[32m40\u001b[39m     \u001b[38;5;28;01mreturn\u001b[39;00m \u001b[43mvd\u001b[49m\u001b[43m.\u001b[49m\u001b[43mcall\u001b[49m\u001b[43m(\u001b[49m\u001b[43m*\u001b[49m\u001b[43margs\u001b[49m\u001b[43m,\u001b[49m\u001b[43m \u001b[49m\u001b[43m*\u001b[49m\u001b[43m*\u001b[49m\u001b[43mkwargs\u001b[49m\u001b[43m)\u001b[49m\n",
      "\u001b[36mFile \u001b[39m\u001b[32m~/ML-For-Beginners/.venv/lib/python3.11/site-packages/pydantic/v1/decorator.py:134\u001b[39m, in \u001b[36mValidatedFunction.call\u001b[39m\u001b[34m(self, *args, **kwargs)\u001b[39m\n\u001b[32m    132\u001b[39m \u001b[38;5;28;01mdef\u001b[39;00m\u001b[38;5;250m \u001b[39m\u001b[34mcall\u001b[39m(\u001b[38;5;28mself\u001b[39m, *args: Any, **kwargs: Any) -> Any:\n\u001b[32m    133\u001b[39m     m = \u001b[38;5;28mself\u001b[39m.init_model_instance(*args, **kwargs)\n\u001b[32m--> \u001b[39m\u001b[32m134\u001b[39m     \u001b[38;5;28;01mreturn\u001b[39;00m \u001b[38;5;28;43mself\u001b[39;49m\u001b[43m.\u001b[49m\u001b[43mexecute\u001b[49m\u001b[43m(\u001b[49m\u001b[43mm\u001b[49m\u001b[43m)\u001b[49m\n",
      "\u001b[36mFile \u001b[39m\u001b[32m~/ML-For-Beginners/.venv/lib/python3.11/site-packages/pydantic/v1/decorator.py:206\u001b[39m, in \u001b[36mValidatedFunction.execute\u001b[39m\u001b[34m(self, m)\u001b[39m\n\u001b[32m    204\u001b[39m     \u001b[38;5;28;01mreturn\u001b[39;00m \u001b[38;5;28mself\u001b[39m.raw_function(*args_, **kwargs, **var_kwargs)\n\u001b[32m    205\u001b[39m \u001b[38;5;28;01melse\u001b[39;00m:\n\u001b[32m--> \u001b[39m\u001b[32m206\u001b[39m     \u001b[38;5;28;01mreturn\u001b[39;00m \u001b[38;5;28;43mself\u001b[39;49m\u001b[43m.\u001b[49m\u001b[43mraw_function\u001b[49m\u001b[43m(\u001b[49m\u001b[43m*\u001b[49m\u001b[43m*\u001b[49m\u001b[43md\u001b[49m\u001b[43m,\u001b[49m\u001b[43m \u001b[49m\u001b[43m*\u001b[49m\u001b[43m*\u001b[49m\u001b[43mvar_kwargs\u001b[49m\u001b[43m)\u001b[49m\n",
      "\u001b[36mFile \u001b[39m\u001b[32m~/ML-For-Beginners/.venv/lib/python3.11/site-packages/edgeimpulse_api/api/projects_api.py:4575\u001b[39m, in \u001b[36mProjectsApi._list_projects_with_http_info\u001b[39m\u001b[34m(self, **kwargs)\u001b[39m\n\u001b[32m   4569\u001b[39m _auth_settings = [\u001b[33m'\u001b[39m\u001b[33mApiKeyAuthentication\u001b[39m\u001b[33m'\u001b[39m, \u001b[33m'\u001b[39m\u001b[33mOAuth2\u001b[39m\u001b[33m'\u001b[39m, \u001b[33m'\u001b[39m\u001b[33mOAuth2\u001b[39m\u001b[33m'\u001b[39m, \u001b[33m'\u001b[39m\u001b[33mOAuth2\u001b[39m\u001b[33m'\u001b[39m, \u001b[33m'\u001b[39m\u001b[33mOAuth2\u001b[39m\u001b[33m'\u001b[39m, \u001b[33m'\u001b[39m\u001b[33mJWTAuthentication\u001b[39m\u001b[33m'\u001b[39m, \u001b[33m'\u001b[39m\u001b[33mJWTHttpHeaderAuthentication\u001b[39m\u001b[33m'\u001b[39m]  \u001b[38;5;66;03m# noqa: E501\u001b[39;00m\n\u001b[32m   4571\u001b[39m _response_types_map = {\n\u001b[32m   4572\u001b[39m     \u001b[33m'\u001b[39m\u001b[33m200\u001b[39m\u001b[33m'\u001b[39m: \u001b[33m\"\u001b[39m\u001b[33mListProjectsResponse\u001b[39m\u001b[33m\"\u001b[39m,\n\u001b[32m   4573\u001b[39m }\n\u001b[32m-> \u001b[39m\u001b[32m4575\u001b[39m \u001b[38;5;28;01mreturn\u001b[39;00m \u001b[38;5;28;43mself\u001b[39;49m\u001b[43m.\u001b[49m\u001b[43mapi_client\u001b[49m\u001b[43m.\u001b[49m\u001b[43mcall_api\u001b[49m\u001b[43m(\u001b[49m\n\u001b[32m   4576\u001b[39m \u001b[43m    \u001b[49m\u001b[33;43m'\u001b[39;49m\u001b[33;43m/api/projects\u001b[39;49m\u001b[33;43m'\u001b[39;49m\u001b[43m,\u001b[49m\u001b[43m \u001b[49m\u001b[33;43m'\u001b[39;49m\u001b[33;43mGET\u001b[39;49m\u001b[33;43m'\u001b[39;49m\u001b[43m,\u001b[49m\n\u001b[32m   4577\u001b[39m \u001b[43m    \u001b[49m\u001b[43m_path_params\u001b[49m\u001b[43m,\u001b[49m\n\u001b[32m   4578\u001b[39m \u001b[43m    \u001b[49m\u001b[43m_query_params\u001b[49m\u001b[43m,\u001b[49m\n\u001b[32m   4579\u001b[39m \u001b[43m    \u001b[49m\u001b[43m_header_params\u001b[49m\u001b[43m,\u001b[49m\n\u001b[32m   4580\u001b[39m \u001b[43m    \u001b[49m\u001b[43mbody\u001b[49m\u001b[43m=\u001b[49m\u001b[43m_body_params\u001b[49m\u001b[43m,\u001b[49m\n\u001b[32m   4581\u001b[39m \u001b[43m    \u001b[49m\u001b[43mpost_params\u001b[49m\u001b[43m=\u001b[49m\u001b[43m_form_params\u001b[49m\u001b[43m,\u001b[49m\n\u001b[32m   4582\u001b[39m \u001b[43m    \u001b[49m\u001b[43mfiles\u001b[49m\u001b[43m=\u001b[49m\u001b[43m_files\u001b[49m\u001b[43m,\u001b[49m\n\u001b[32m   4583\u001b[39m \u001b[43m    \u001b[49m\u001b[43mresponse_types_map\u001b[49m\u001b[43m=\u001b[49m\u001b[43m_response_types_map\u001b[49m\u001b[43m,\u001b[49m\n\u001b[32m   4584\u001b[39m \u001b[43m    \u001b[49m\u001b[43mauth_settings\u001b[49m\u001b[43m=\u001b[49m\u001b[43m_auth_settings\u001b[49m\u001b[43m,\u001b[49m\n\u001b[32m   4585\u001b[39m \u001b[43m    \u001b[49m\u001b[43masync_req\u001b[49m\u001b[43m=\u001b[49m\u001b[43m_params\u001b[49m\u001b[43m.\u001b[49m\u001b[43mget\u001b[49m\u001b[43m(\u001b[49m\u001b[33;43m'\u001b[39;49m\u001b[33;43masync_req\u001b[39;49m\u001b[33;43m'\u001b[39;49m\u001b[43m)\u001b[49m\u001b[43m,\u001b[49m\n\u001b[32m   4586\u001b[39m \u001b[43m    \u001b[49m\u001b[43m_return_http_data_only\u001b[49m\u001b[43m=\u001b[49m\u001b[43m_params\u001b[49m\u001b[43m.\u001b[49m\u001b[43mget\u001b[49m\u001b[43m(\u001b[49m\u001b[33;43m'\u001b[39;49m\u001b[33;43m_return_http_data_only\u001b[39;49m\u001b[33;43m'\u001b[39;49m\u001b[43m)\u001b[49m\u001b[43m,\u001b[49m\u001b[43m  \u001b[49m\u001b[38;5;66;43;03m# noqa: E501\u001b[39;49;00m\n\u001b[32m   4587\u001b[39m \u001b[43m    \u001b[49m\u001b[43m_preload_content\u001b[49m\u001b[43m=\u001b[49m\u001b[43m_params\u001b[49m\u001b[43m.\u001b[49m\u001b[43mget\u001b[49m\u001b[43m(\u001b[49m\u001b[33;43m'\u001b[39;49m\u001b[33;43m_preload_content\u001b[39;49m\u001b[33;43m'\u001b[39;49m\u001b[43m,\u001b[49m\u001b[43m \u001b[49m\u001b[38;5;28;43;01mTrue\u001b[39;49;00m\u001b[43m)\u001b[49m\u001b[43m,\u001b[49m\n\u001b[32m   4588\u001b[39m \u001b[43m    \u001b[49m\u001b[43m_request_timeout\u001b[49m\u001b[43m=\u001b[49m\u001b[43m_params\u001b[49m\u001b[43m.\u001b[49m\u001b[43mget\u001b[49m\u001b[43m(\u001b[49m\u001b[33;43m'\u001b[39;49m\u001b[33;43m_request_timeout\u001b[39;49m\u001b[33;43m'\u001b[39;49m\u001b[43m)\u001b[49m\u001b[43m,\u001b[49m\n\u001b[32m   4589\u001b[39m \u001b[43m    \u001b[49m\u001b[43mcollection_formats\u001b[49m\u001b[43m=\u001b[49m\u001b[43m_collection_formats\u001b[49m\u001b[43m,\u001b[49m\n\u001b[32m   4590\u001b[39m \u001b[43m    \u001b[49m\u001b[43m_request_auth\u001b[49m\u001b[43m=\u001b[49m\u001b[43m_params\u001b[49m\u001b[43m.\u001b[49m\u001b[43mget\u001b[49m\u001b[43m(\u001b[49m\u001b[33;43m'\u001b[39;49m\u001b[33;43m_request_auth\u001b[39;49m\u001b[33;43m'\u001b[39;49m\u001b[43m)\u001b[49m\u001b[43m)\u001b[49m\n",
      "\u001b[36mFile \u001b[39m\u001b[32m~/ML-For-Beginners/.venv/lib/python3.11/site-packages/edgeimpulse_api/api_client.py:400\u001b[39m, in \u001b[36mApiClient.call_api\u001b[39m\u001b[34m(self, resource_path, method, path_params, query_params, header_params, body, post_params, files, response_types_map, auth_settings, async_req, _return_http_data_only, collection_formats, _preload_content, _request_timeout, _host, _request_auth)\u001b[39m\n\u001b[32m    359\u001b[39m \u001b[38;5;250m\u001b[39m\u001b[33;03m\"\"\"Makes the HTTP request (synchronous) and returns deserialized data.\u001b[39;00m\n\u001b[32m    360\u001b[39m \n\u001b[32m    361\u001b[39m \u001b[33;03mTo make an async_req request, set the async_req parameter.\u001b[39;00m\n\u001b[32m   (...)\u001b[39m\u001b[32m    397\u001b[39m \u001b[33;03m    then the method will return the response directly.\u001b[39;00m\n\u001b[32m    398\u001b[39m \u001b[33;03m\"\"\"\u001b[39;00m\n\u001b[32m    399\u001b[39m \u001b[38;5;28;01mif\u001b[39;00m \u001b[38;5;129;01mnot\u001b[39;00m async_req:\n\u001b[32m--> \u001b[39m\u001b[32m400\u001b[39m     \u001b[38;5;28;01mreturn\u001b[39;00m \u001b[38;5;28;43mself\u001b[39;49m\u001b[43m.\u001b[49m\u001b[43m__call_api\u001b[49m\u001b[43m(\u001b[49m\u001b[43mresource_path\u001b[49m\u001b[43m,\u001b[49m\u001b[43m \u001b[49m\u001b[43mmethod\u001b[49m\u001b[43m,\u001b[49m\n\u001b[32m    401\u001b[39m \u001b[43m                           \u001b[49m\u001b[43mpath_params\u001b[49m\u001b[43m,\u001b[49m\u001b[43m \u001b[49m\u001b[43mquery_params\u001b[49m\u001b[43m,\u001b[49m\u001b[43m \u001b[49m\u001b[43mheader_params\u001b[49m\u001b[43m,\u001b[49m\n\u001b[32m    402\u001b[39m \u001b[43m                           \u001b[49m\u001b[43mbody\u001b[49m\u001b[43m,\u001b[49m\u001b[43m \u001b[49m\u001b[43mpost_params\u001b[49m\u001b[43m,\u001b[49m\u001b[43m \u001b[49m\u001b[43mfiles\u001b[49m\u001b[43m,\u001b[49m\n\u001b[32m    403\u001b[39m \u001b[43m                           \u001b[49m\u001b[43mresponse_types_map\u001b[49m\u001b[43m,\u001b[49m\u001b[43m \u001b[49m\u001b[43mauth_settings\u001b[49m\u001b[43m,\u001b[49m\n\u001b[32m    404\u001b[39m \u001b[43m                           \u001b[49m\u001b[43m_return_http_data_only\u001b[49m\u001b[43m,\u001b[49m\u001b[43m \u001b[49m\u001b[43mcollection_formats\u001b[49m\u001b[43m,\u001b[49m\n\u001b[32m    405\u001b[39m \u001b[43m                           \u001b[49m\u001b[43m_preload_content\u001b[49m\u001b[43m,\u001b[49m\u001b[43m \u001b[49m\u001b[43m_request_timeout\u001b[49m\u001b[43m,\u001b[49m\u001b[43m \u001b[49m\u001b[43m_host\u001b[49m\u001b[43m,\u001b[49m\n\u001b[32m    406\u001b[39m \u001b[43m                           \u001b[49m\u001b[43m_request_auth\u001b[49m\u001b[43m)\u001b[49m\n\u001b[32m    408\u001b[39m \u001b[38;5;28;01mreturn\u001b[39;00m \u001b[38;5;28mself\u001b[39m.pool.apply_async(\u001b[38;5;28mself\u001b[39m.__call_api, (resource_path,\n\u001b[32m    409\u001b[39m                                                method, path_params,\n\u001b[32m    410\u001b[39m                                                query_params,\n\u001b[32m   (...)\u001b[39m\u001b[32m    418\u001b[39m                                                _request_timeout,\n\u001b[32m    419\u001b[39m                                                _host, _request_auth))\n",
      "\u001b[36mFile \u001b[39m\u001b[32m~/ML-For-Beginners/.venv/lib/python3.11/site-packages/edgeimpulse_api/api_client.py:215\u001b[39m, in \u001b[36mApiClient.__call_api\u001b[39m\u001b[34m(self, resource_path, method, path_params, query_params, header_params, body, post_params, files, response_types_map, auth_settings, _return_http_data_only, collection_formats, _preload_content, _request_timeout, _host, _request_auth)\u001b[39m\n\u001b[32m    213\u001b[39m     \u001b[38;5;28;01mif\u001b[39;00m e.body:\n\u001b[32m    214\u001b[39m         e.body = e.body.decode(\u001b[33m'\u001b[39m\u001b[33mutf-8\u001b[39m\u001b[33m'\u001b[39m)\n\u001b[32m--> \u001b[39m\u001b[32m215\u001b[39m     \u001b[38;5;28;01mraise\u001b[39;00m e\n\u001b[32m    217\u001b[39m \u001b[38;5;28mself\u001b[39m.last_response = response_data\n\u001b[32m    219\u001b[39m return_data = response_data\n",
      "\u001b[36mFile \u001b[39m\u001b[32m~/ML-For-Beginners/.venv/lib/python3.11/site-packages/edgeimpulse_api/api_client.py:205\u001b[39m, in \u001b[36mApiClient.__call_api\u001b[39m\u001b[34m(self, resource_path, method, path_params, query_params, header_params, body, post_params, files, response_types_map, auth_settings, _return_http_data_only, collection_formats, _preload_content, _request_timeout, _host, _request_auth)\u001b[39m\n\u001b[32m    201\u001b[39m     url += \u001b[33m\"\u001b[39m\u001b[33m?\u001b[39m\u001b[33m\"\u001b[39m + url_query\n\u001b[32m    203\u001b[39m \u001b[38;5;28;01mtry\u001b[39;00m:\n\u001b[32m    204\u001b[39m     \u001b[38;5;66;03m# perform request and return response\u001b[39;00m\n\u001b[32m--> \u001b[39m\u001b[32m205\u001b[39m     response_data = \u001b[38;5;28;43mself\u001b[39;49m\u001b[43m.\u001b[49m\u001b[43mrequest\u001b[49m\u001b[43m(\u001b[49m\n\u001b[32m    206\u001b[39m \u001b[43m        \u001b[49m\u001b[43mmethod\u001b[49m\u001b[43m,\u001b[49m\u001b[43m \u001b[49m\u001b[43murl\u001b[49m\u001b[43m,\u001b[49m\n\u001b[32m    207\u001b[39m \u001b[43m        \u001b[49m\u001b[43mquery_params\u001b[49m\u001b[43m=\u001b[49m\u001b[43mquery_params\u001b[49m\u001b[43m,\u001b[49m\n\u001b[32m    208\u001b[39m \u001b[43m        \u001b[49m\u001b[43mheaders\u001b[49m\u001b[43m=\u001b[49m\u001b[43mheader_params\u001b[49m\u001b[43m,\u001b[49m\n\u001b[32m    209\u001b[39m \u001b[43m        \u001b[49m\u001b[43mpost_params\u001b[49m\u001b[43m=\u001b[49m\u001b[43mpost_params\u001b[49m\u001b[43m,\u001b[49m\u001b[43m \u001b[49m\u001b[43mbody\u001b[49m\u001b[43m=\u001b[49m\u001b[43mbody\u001b[49m\u001b[43m,\u001b[49m\n\u001b[32m    210\u001b[39m \u001b[43m        \u001b[49m\u001b[43m_preload_content\u001b[49m\u001b[43m=\u001b[49m\u001b[43m_preload_content\u001b[49m\u001b[43m,\u001b[49m\n\u001b[32m    211\u001b[39m \u001b[43m        \u001b[49m\u001b[43m_request_timeout\u001b[49m\u001b[43m=\u001b[49m\u001b[43m_request_timeout\u001b[49m\u001b[43m)\u001b[49m\n\u001b[32m    212\u001b[39m \u001b[38;5;28;01mexcept\u001b[39;00m ApiException \u001b[38;5;28;01mas\u001b[39;00m e:\n\u001b[32m    213\u001b[39m     \u001b[38;5;28;01mif\u001b[39;00m e.body:\n",
      "\u001b[36mFile \u001b[39m\u001b[32m~/ML-For-Beginners/.venv/lib/python3.11/site-packages/edgeimpulse_api/api_client.py:426\u001b[39m, in \u001b[36mApiClient.request\u001b[39m\u001b[34m(self, method, url, query_params, headers, post_params, body, _preload_content, _request_timeout)\u001b[39m\n\u001b[32m    424\u001b[39m \u001b[38;5;250m\u001b[39m\u001b[33;03m\"\"\"Makes the HTTP request using RESTClient.\"\"\"\u001b[39;00m\n\u001b[32m    425\u001b[39m \u001b[38;5;28;01mif\u001b[39;00m method == \u001b[33m\"\u001b[39m\u001b[33mGET\u001b[39m\u001b[33m\"\u001b[39m:\n\u001b[32m--> \u001b[39m\u001b[32m426\u001b[39m     \u001b[38;5;28;01mreturn\u001b[39;00m \u001b[38;5;28;43mself\u001b[39;49m\u001b[43m.\u001b[49m\u001b[43mrest_client\u001b[49m\u001b[43m.\u001b[49m\u001b[43mget_request\u001b[49m\u001b[43m(\u001b[49m\u001b[43murl\u001b[49m\u001b[43m,\u001b[49m\n\u001b[32m    427\u001b[39m \u001b[43m                                \u001b[49m\u001b[43mquery_params\u001b[49m\u001b[43m=\u001b[49m\u001b[43mquery_params\u001b[49m\u001b[43m,\u001b[49m\n\u001b[32m    428\u001b[39m \u001b[43m                                \u001b[49m\u001b[43m_preload_content\u001b[49m\u001b[43m=\u001b[49m\u001b[43m_preload_content\u001b[49m\u001b[43m,\u001b[49m\n\u001b[32m    429\u001b[39m \u001b[43m                                \u001b[49m\u001b[43m_request_timeout\u001b[49m\u001b[43m=\u001b[49m\u001b[43m_request_timeout\u001b[49m\u001b[43m,\u001b[49m\n\u001b[32m    430\u001b[39m \u001b[43m                                \u001b[49m\u001b[43mheaders\u001b[49m\u001b[43m=\u001b[49m\u001b[43mheaders\u001b[49m\u001b[43m)\u001b[49m\n\u001b[32m    431\u001b[39m \u001b[38;5;28;01melif\u001b[39;00m method == \u001b[33m\"\u001b[39m\u001b[33mHEAD\u001b[39m\u001b[33m\"\u001b[39m:\n\u001b[32m    432\u001b[39m     \u001b[38;5;28;01mreturn\u001b[39;00m \u001b[38;5;28mself\u001b[39m.rest_client.head_request(url,\n\u001b[32m    433\u001b[39m                                  query_params=query_params,\n\u001b[32m    434\u001b[39m                                  _preload_content=_preload_content,\n\u001b[32m    435\u001b[39m                                  _request_timeout=_request_timeout,\n\u001b[32m    436\u001b[39m                                  headers=headers)\n",
      "\u001b[36mFile \u001b[39m\u001b[32m~/ML-For-Beginners/.venv/lib/python3.11/site-packages/edgeimpulse_api/rest.py:236\u001b[39m, in \u001b[36mRESTClientObject.get_request\u001b[39m\u001b[34m(self, url, headers, query_params, _preload_content, _request_timeout)\u001b[39m\n\u001b[32m    234\u001b[39m \u001b[38;5;28;01mdef\u001b[39;00m\u001b[38;5;250m \u001b[39m\u001b[34mget_request\u001b[39m(\u001b[38;5;28mself\u001b[39m, url, headers=\u001b[38;5;28;01mNone\u001b[39;00m, query_params=\u001b[38;5;28;01mNone\u001b[39;00m, _preload_content=\u001b[38;5;28;01mTrue\u001b[39;00m,\n\u001b[32m    235\u001b[39m         _request_timeout=\u001b[38;5;28;01mNone\u001b[39;00m):\n\u001b[32m--> \u001b[39m\u001b[32m236\u001b[39m     \u001b[38;5;28;01mreturn\u001b[39;00m \u001b[38;5;28;43mself\u001b[39;49m\u001b[43m.\u001b[49m\u001b[43mrequest\u001b[49m\u001b[43m(\u001b[49m\u001b[33;43m\"\u001b[39;49m\u001b[33;43mGET\u001b[39;49m\u001b[33;43m\"\u001b[39;49m\u001b[43m,\u001b[49m\u001b[43m \u001b[49m\u001b[43murl\u001b[49m\u001b[43m,\u001b[49m\n\u001b[32m    237\u001b[39m \u001b[43m                        \u001b[49m\u001b[43mheaders\u001b[49m\u001b[43m=\u001b[49m\u001b[43mheaders\u001b[49m\u001b[43m,\u001b[49m\n\u001b[32m    238\u001b[39m \u001b[43m                        \u001b[49m\u001b[43m_preload_content\u001b[49m\u001b[43m=\u001b[49m\u001b[43m_preload_content\u001b[49m\u001b[43m,\u001b[49m\n\u001b[32m    239\u001b[39m \u001b[43m                        \u001b[49m\u001b[43m_request_timeout\u001b[49m\u001b[43m=\u001b[49m\u001b[43m_request_timeout\u001b[49m\u001b[43m,\u001b[49m\n\u001b[32m    240\u001b[39m \u001b[43m                        \u001b[49m\u001b[43mquery_params\u001b[49m\u001b[43m=\u001b[49m\u001b[43mquery_params\u001b[49m\u001b[43m)\u001b[49m\n",
      "\u001b[36mFile \u001b[39m\u001b[32m~/ML-For-Beginners/.venv/lib/python3.11/site-packages/edgeimpulse_api/rest.py:219\u001b[39m, in \u001b[36mRESTClientObject.request\u001b[39m\u001b[34m(self, method, url, query_params, headers, body, post_params, _preload_content, _request_timeout)\u001b[39m\n\u001b[32m    217\u001b[39m \u001b[38;5;28;01mif\u001b[39;00m \u001b[38;5;129;01mnot\u001b[39;00m \u001b[32m200\u001b[39m <= r.status <= \u001b[32m299\u001b[39m:\n\u001b[32m    218\u001b[39m     \u001b[38;5;28;01mif\u001b[39;00m r.status == \u001b[32m401\u001b[39m:\n\u001b[32m--> \u001b[39m\u001b[32m219\u001b[39m         \u001b[38;5;28;01mraise\u001b[39;00m UnauthorizedException(http_resp=r)\n\u001b[32m    221\u001b[39m     \u001b[38;5;28;01mif\u001b[39;00m r.status == \u001b[32m403\u001b[39m:\n\u001b[32m    222\u001b[39m         \u001b[38;5;28;01mraise\u001b[39;00m ForbiddenException(http_resp=r)\n",
      "\u001b[31mUnauthorizedException\u001b[39m: (401)\nReason: Unauthorized\nHTTP response headers: HTTPHeaderDict({'Content-Type': 'text/plain; charset=utf-8', 'Content-Length': '60', 'Connection': 'keep-alive', 'Date': 'Sun, 28 Sep 2025 06:56:28 GMT', 'ETag': 'W/\"3c-0go0DpwpkjT6v/UodbrqIBueGa8\"', 'Set-Cookie': 'x-xsrf-token=DVE%2F5%2BklcldKX%2FFkQEji2g%3D%3D; Path=/; HttpOnly; Secure; SameSite=Strict, connect.sid=s%3AXFzGtdxHD0AjoYN6_0915CtObVPvN491.bGRzvn5Js%2BtLrv3NPDRwDAViSS%2FzjDtrnFoxXviNICo; Path=/; HttpOnly; Secure', 'Access-Control-Allow-Origin': '*', 'Content-Security-Policy': \"default-src 'self' blob: edgeimpulse.com *.edgeimpulse.com ; img-src 'self' 'unsafe-inline' edgeimpulse.com *.edgeimpulse.com *.google-analytics.com *.googletagmanager.com data: https://usercdn.edgeimpulse.com ; media-src 'self' edgeimpulse.com *.edgeimpulse.com blob: data: mediastream://studio.edgeimpulse.com; script-src   'nonce-Nv9ZNk4ljGU8ArMhmgAgSA==' blob:; connect-src 'self' edgeimpulse.com *.edgeimpulse.com *.google-analytics.com *.hsforms.net *.hsforms.com *.amazonaws.com *.googleapis.com fonts.googleapis.com sentry.io *.sentry.io youtube.com *.youtube.com *.doubleclick.net *.amplitude.com localhost:4800 localhost:4810 host.docker.internal:4810 host.docker.internal:9001 host.docker.internal:* http://*.svc.cluster.local:4449 wss://studio.edgeimpulse.com wss://remote-mgmt.edgeimpulse.com ; style-src 'self' 'unsafe-inline' edgeimpulse.com *.edgeimpulse.com fonts.googleapis.com; base-uri 'self' edgeimpulse.com *.edgeimpulse.com; frame-ancestors 'self' edgeimpulse.com *.edgeimpulse.com; form-action 'self' edgeimpulse.com *.edgeimpulse.com; frame-src 'self' edgeimpulse.com *.edgeimpulse.com youtube.com *.youtube.com *.googletagmanager.com challenges.cloudflare.com localhost:4820; font-src 'self' edgeimpulse.com *.edgeimpulse.com fonts.gstatic.com; report-uri https://o333795.ingest.sentry.io/api/1887001/security/?sentry_key=3ad6405147234fac8ab65061c25d2334;\", 'X-Content-Type-Options': 'nosniff', 'X-Frame-Options': 'DENY', 'X-XSS-Protection': '1; mode=block', 'Referrer-Policy': 'strict-origin', 'Cache-Control': 's-maxage=0,public,no-cache,no-store,must-revalidate', 'Strict-Transport-Security': 'max-age=63072000', 'X-Cache': 'Error from cloudfront', 'Via': '1.1 f210af40fa7c8969ae75fe2a8df31bd4.cloudfront.net (CloudFront)', 'X-Amz-Cf-Pop': 'CPH50-P2', 'X-Amz-Cf-Id': 'A7Qx-PdZc8n4CM829JGBjzguh3GCOf4NSHP7ByUK405DrkD6v4DyNA=='})\nHTTP response body: An error occurred when serving your request: Invalid API key\n"
     ]
    }
   ],
   "source": [
    "# List the available profile target devices\n",
    "ei.model.list_profile_devices()"
   ]
  },
  {
   "attachments": {},
   "cell_type": "markdown",
   "id": "eaaaef69-1ba2-4ffd-bbe6-88ca299c8ee7",
   "metadata": {
    "tags": []
   },
   "source": [
    "You should see a list printed such as:\n",
    "\n",
    "```\n",
    "['alif-he',\n",
    " 'alif-hp',\n",
    " 'arduino-nano-33-ble',\n",
    " 'arduino-nicla-vision',\n",
    " 'portenta-h7',\n",
    " 'brainchip-akd1000',\n",
    " 'cortex-m4f-80mhz',\n",
    " 'cortex-m7-216mhz',\n",
    " ...\n",
    " 'ti-tda4vm']\n",
    "```\n",
    "\n",
    "A common option is the `cortex-m4f-80mhz`, as this is a relatively low-power microcontroller family. From there, we can use the Edge Impulse Python SDK to generate a profile for your model to ensure it fits on your target hardware and meets your timing requirements."
   ]
  },
  {
   "cell_type": "code",
   "execution_count": null,
   "id": "3c16e2ab-0c50-483e-8d2e-01c2dd48be23",
   "metadata": {
    "tags": []
   },
   "outputs": [],
   "source": [
    "# Estimate the RAM, ROM, and inference time for our model on the target hardware family\n",
    "try:\n",
    "    profile = ei.model.profile(model=model,\n",
    "                               device='cortex-m4f-80mhz')\n",
    "    print(profile.summary())\n",
    "except Exception as e:\n",
    "    print(f\"Could not profile: {e}\")"
   ]
  },
  {
   "attachments": {},
   "cell_type": "markdown",
   "id": "29e4bc88-032a-4d8a-8b3a-4cbf2ec5d778",
   "metadata": {},
   "source": [
    "## Deploy your model\n",
    "\n",
    "Once you are happy with the performance of the model, you can deploy it to a number of possible hardware targets. To see the available hardware targets, run the following:"
   ]
  },
  {
   "cell_type": "code",
   "execution_count": null,
   "id": "ee30330d-6ff2-4733-8c37-8d90e3da6d78",
   "metadata": {
    "tags": []
   },
   "outputs": [],
   "source": [
    "# List the available profile target devices\n",
    "ei.model.list_deployment_targets()"
   ]
  },
  {
   "attachments": {},
   "cell_type": "markdown",
   "id": "418ee00a-5714-4cd9-a880-2bdf567d72e5",
   "metadata": {},
   "source": [
    "You should see a list printed such as:\n",
    "\n",
    "```\n",
    "['zip',\n",
    " 'arduino',\n",
    " 'tinkergen',\n",
    " 'cubemx',\n",
    " 'wasm',\n",
    " ...\n",
    " 'runner-linux-aarch64-tda4vm']\n",
    "```\n",
    "\n",
    "The most generic target is to download a .zip file that holds a C++ library containing the inference runtime and your trained model, so we choose `'zip'` from the above list. To do that, we first need to create a Classification object which contains our label strings (and other optional information about the model). These strings will be added to the C++ library metadata so you can access them in your edge application.\n",
    "\n",
    "Note that instead of writing the raw bytes to a file, you can also specify an `output_directory` argument in the `.deploy()` function. Your deployment file(s) will be downloaded to that directory.\n",
    "\n",
    "**Important!** The deployment targets list will change depending on the values provided for `model`, `model_output_type`, and `model_input_type` in the next part. For example, you will not see `openmv` listed once you upload a model (e.g. using `.profile()` or `.deploy()`) if `model_input_type` is not set to `ei.model.input_type.ImageInput()`. If you attempt to deploy to an unavailable target, you will receive the error `Could not deploy: deploy_target: ...`. If `model_input_type` is not provided, it will default to [OtherInput](https://docs.edgeimpulse.com/reference/python-sdk/edgeimpulse/model/input_type#otherinput). See [this page](https://docs.edgeimpulse.com/reference/python-sdk/edgeimpulse/model/input_type) for more information about input types."
   ]
  },
  {
   "cell_type": "code",
   "execution_count": null,
   "id": "f45a3c73-fbc2-477a-9f8d-04c3e10b1863",
   "metadata": {
    "tags": []
   },
   "outputs": [],
   "source": [
    "# Set model information, such as your list of labels\n",
    "model_output_type = ei.model.output_type.Classification(labels=labels)\n",
    "\n",
    "# Set model input type\n",
    "model_input_type = ei.model.input_type.OtherInput()\n",
    "\n",
    "# Create C++ library with trained model\n",
    "deploy_bytes = None\n",
    "try:\n",
    "    \n",
    "    deploy_bytes = ei.model.deploy(model=model,\n",
    "                                   model_output_type=model_output_type,\n",
    "                                   model_input_type=model_input_type,\n",
    "                                   deploy_target='zip')\n",
    "except Exception as e:\n",
    "    print(f\"Could not deploy: {e}\")\n",
    "    \n",
    "# Write the downloaded raw bytes to a file\n",
    "if deploy_bytes:\n",
    "    with open(deploy_filename, 'wb') as f:\n",
    "        f.write(deploy_bytes.getvalue())"
   ]
  },
  {
   "attachments": {},
   "cell_type": "markdown",
   "id": "eddfdb39-215c-4f09-88d6-3e9c75ef3603",
   "metadata": {
    "tags": []
   },
   "source": [
    "Your model C++ library should be downloaded as the file *my_model_cpp.zip* in the same directory as this notebook. You are now ready to use your C++ model in your embedded and edge device application! To use the C++ model for local inference, see our documentation [here](https://docs.edgeimpulse.com/docs/deployment/running-your-impulse-locally).\n",
    "\n",
    "See [Assignment 2 notebook](MLME24_Assignment_2.ipynb) for loading the data and model files from EI Studio and evaluate locally. "
   ]
  }
 ],
 "metadata": {
  "kernelspec": {
   "display_name": "ml-for-beginners",
   "language": "python",
   "name": "python3"
  },
  "language_info": {
   "codemirror_mode": {
    "name": "ipython",
    "version": 3
   },
   "file_extension": ".py",
   "mimetype": "text/x-python",
   "name": "python",
   "nbconvert_exporter": "python",
   "pygments_lexer": "ipython3",
   "version": "3.11.13"
  }
 },
 "nbformat": 4,
 "nbformat_minor": 5
}
